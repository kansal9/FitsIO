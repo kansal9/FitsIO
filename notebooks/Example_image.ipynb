{
 "cells": [
  {
   "cell_type": "code",
   "execution_count": 1,
   "id": "85149f9f",
   "metadata": {},
   "outputs": [],
   "source": [
    "import os\n",
    "import FitsFile.Image as image"
   ]
  },
  {
   "cell_type": "code",
   "execution_count": 2,
   "id": "12142454",
   "metadata": {},
   "outputs": [
    {
     "name": "stdout",
     "output_type": "stream",
     "text": [
      "/Users/kansal/Documents/GitHub/FitsIO/data/gal.fits\n"
     ]
    }
   ],
   "source": [
    "#get the absolute file path\n",
    "#Make sure about this path\n",
    "filepath = os.path.join(os.path.dirname(os.getcwd()), 'data', 'gal.fits')\n"
   ]
  },
  {
   "cell_type": "code",
   "execution_count": 3,
   "id": "d2f4fed4",
   "metadata": {},
   "outputs": [],
   "source": [
    "#get image object using fits file object\n",
    "im = image.FitsImage(filepath)\n",
    "#read image\n",
    "im.open()"
   ]
  },
  {
   "cell_type": "code",
   "execution_count": 4,
   "id": "735828e8",
   "metadata": {},
   "outputs": [
    {
     "data": {
      "text/plain": [
       "(44, 44)"
      ]
     },
     "execution_count": 4,
     "metadata": {},
     "output_type": "execute_result"
    }
   ],
   "source": [
    "im.get_shape()"
   ]
  },
  {
   "cell_type": "code",
   "execution_count": 5,
   "id": "50d191dd",
   "metadata": {},
   "outputs": [
    {
     "data": {
      "text/plain": [
       "'float32'"
      ]
     },
     "execution_count": 5,
     "metadata": {},
     "output_type": "execute_result"
    }
   ],
   "source": [
    "im.read_image_value_type()"
   ]
  },
  {
   "cell_type": "code",
   "execution_count": 6,
   "id": "5e661540",
   "metadata": {},
   "outputs": [
    {
     "data": {
      "text/plain": [
       "1936"
      ]
     },
     "execution_count": 6,
     "metadata": {},
     "output_type": "execute_result"
    }
   ],
   "source": [
    "im.read_image_pixels()"
   ]
  },
  {
   "cell_type": "code",
   "execution_count": null,
   "id": "773223b4",
   "metadata": {},
   "outputs": [],
   "source": []
  }
 ],
 "metadata": {
  "kernelspec": {
   "display_name": "Python 3 (ipykernel)",
   "language": "python",
   "name": "python3"
  },
  "language_info": {
   "codemirror_mode": {
    "name": "ipython",
    "version": 3
   },
   "file_extension": ".py",
   "mimetype": "text/x-python",
   "name": "python",
   "nbconvert_exporter": "python",
   "pygments_lexer": "ipython3",
   "version": "3.9.13"
  }
 },
 "nbformat": 4,
 "nbformat_minor": 5
}
