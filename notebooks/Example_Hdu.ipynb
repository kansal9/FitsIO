{
 "cells": [
  {
   "cell_type": "code",
   "execution_count": 1,
   "id": "169626a9",
   "metadata": {},
   "outputs": [],
   "source": [
    "import os\n",
    "import FitsFile.Hdu as hdu"
   ]
  },
  {
   "cell_type": "code",
   "execution_count": 2,
   "id": "fb2bdbab",
   "metadata": {},
   "outputs": [],
   "source": [
    "#get the absolute file path\n",
    "#Make sure about this path\n",
    "filepath1 = os.path.join(os.path.dirname(os.getcwd()), 'data', 'gal.fits')\n",
    "\n",
    "filepath2 = os.path.join(os.path.dirname(os.getcwd()), 'data', 'cat_shear.fits')\n"
   ]
  },
  {
   "cell_type": "code",
   "execution_count": 3,
   "id": "40dceeba",
   "metadata": {},
   "outputs": [],
   "source": [
    "#get image object using fits file object\n",
    "image = hdu.FitsHDU(filepath1)\n",
    "\n",
    "#get table object using fits file object\n",
    "table = hdu.FitsHDU(filepath2)"
   ]
  },
  {
   "cell_type": "code",
   "execution_count": 4,
   "id": "09dbdec0",
   "metadata": {},
   "outputs": [],
   "source": [
    "#open files\n",
    "table.open()\n",
    "image.open()"
   ]
  },
  {
   "cell_type": "code",
   "execution_count": 5,
   "id": "ca252c23",
   "metadata": {},
   "outputs": [
    {
     "data": {
      "text/plain": [
       "'PRIMARY'"
      ]
     },
     "execution_count": 5,
     "metadata": {},
     "output_type": "execute_result"
    }
   ],
   "source": [
    "#get hduname\n",
    "table.get_hduname()"
   ]
  },
  {
   "cell_type": "code",
   "execution_count": 6,
   "id": "b1361fde",
   "metadata": {},
   "outputs": [
    {
     "data": {
      "text/plain": [
       "SIMPLE  =                    T / conforms to FITS standard                      \n",
       "BITPIX  =                    8 / array data type                                \n",
       "NAXIS   =                    0 / number of array dimensions                     \n",
       "EXTEND  =                    T                                                  "
      ]
     },
     "execution_count": 6,
     "metadata": {},
     "output_type": "execute_result"
    }
   ],
   "source": [
    "#get/print hdu\n",
    "table.get_hdu()"
   ]
  },
  {
   "cell_type": "code",
   "execution_count": 7,
   "id": "8c180626",
   "metadata": {},
   "outputs": [
    {
     "data": {
      "text/plain": [
       "XTENSION= 'BINTABLE'           / binary table extension                         \n",
       "BITPIX  =                    8 / array data type                                \n",
       "NAXIS   =                    2 / number of array dimensions                     \n",
       "NAXIS1  =                   40 / length of dimension 1                          \n",
       "NAXIS2  =               190212 / length of dimension 2                          \n",
       "PCOUNT  =                    0 / number of group parameters                     \n",
       "GCOUNT  =                    1 / number of groups                               \n",
       "TFIELDS =                    5 / number of table fields                         \n",
       "TTYPE1  = 'ra_gal  '                                                            \n",
       "TFORM1  = 'D       '                                                            \n",
       "TTYPE2  = 'dec_gal '                                                            \n",
       "TFORM2  = 'D       '                                                            \n",
       "TTYPE3  = 'shearE  '                                                            \n",
       "TFORM3  = 'D       '                                                            \n",
       "TTYPE4  = 'shearB  '                                                            \n",
       "TFORM4  = 'D       '                                                            \n",
       "TTYPE5  = 'weight  '                                                            \n",
       "TFORM5  = 'D       '                                                            "
      ]
     },
     "execution_count": 7,
     "metadata": {},
     "output_type": "execute_result"
    }
   ],
   "source": [
    "#set bintable hdu that is 1\n",
    "table.set_hdu_index(1)\n",
    "#get/print hdu=1\n",
    "table.get_hdu()"
   ]
  },
  {
   "cell_type": "code",
   "execution_count": 8,
   "id": "21f9866a",
   "metadata": {},
   "outputs": [
    {
     "name": "stdout",
     "output_type": "stream",
     "text": [
      "HDU 1 of Fits file /Users/kansal/Documents/GitHub/FitsIO/data/cat_shear.fits is BINTABLE\n"
     ]
    }
   ],
   "source": [
    "#get the type of the hdu\n",
    "table.fits_type()"
   ]
  },
  {
   "cell_type": "code",
   "execution_count": 9,
   "id": "8af84a3f",
   "metadata": {},
   "outputs": [
    {
     "name": "stdout",
     "output_type": "stream",
     "text": [
      "['SIMPLE', 'BITPIX', 'NAXIS', 'NAXIS1', 'NAXIS2', 'EXTEND', 'GS_XMIN', 'GS_YMIN', 'GS_WCS', 'GS_SCALE', 'CTYPE1', 'CTYPE2', 'CRVAL1', 'CRVAL2', 'CRPIX1', 'CRPIX2', 'CD1_1', 'CD1_2', 'CD2_1', 'CD2_2']\n"
     ]
    }
   ],
   "source": [
    "#list hdu keywords\n",
    "image_key = image.list_keywords()\n",
    "print (image_key)"
   ]
  },
  {
   "cell_type": "code",
   "execution_count": 10,
   "id": "f03fde10",
   "metadata": {},
   "outputs": [
    {
     "name": "stdout",
     "output_type": "stream",
     "text": [
      "['XTENSION', 'BITPIX', 'NAXIS', 'NAXIS1', 'NAXIS2', 'PCOUNT', 'GCOUNT', 'TFIELDS', 'TTYPE1', 'TFORM1', 'TTYPE2', 'TFORM2', 'TTYPE3', 'TFORM3', 'TTYPE4', 'TFORM4', 'TTYPE5', 'TFORM5']\n"
     ]
    }
   ],
   "source": [
    "#list hdu keywords of table hdu=1\n",
    "table_key = table.list_keywords()\n",
    "print (table_key)"
   ]
  },
  {
   "cell_type": "code",
   "execution_count": 11,
   "id": "b2e9587f",
   "metadata": {},
   "outputs": [
    {
     "name": "stdout",
     "output_type": "stream",
     "text": [
      "[True, -32, 2, 44, 44, True, 1, 1, 'PixelScale', 0.2, 'LINEAR', 'LINEAR', 0.0, 0.0, 0.0, 0.0, 0.2, 0.0, 0.0, 0.2]\n",
      "['BINTABLE', 8, 2, 40, 190212, 0, 1, 5, 'ra_gal', 'D', 'dec_gal', 'D', 'shearE', 'D', 'shearB', 'D', 'weight', 'D']\n"
     ]
    }
   ],
   "source": [
    "#list the values of keywords\n",
    "image_key_val = image.list_keyword_values(image_key)\n",
    "table_key_val = table.list_keyword_values(table_key)\n",
    "\n",
    "print (image_key_val)\n",
    "print (table_key_val)"
   ]
  },
  {
   "cell_type": "code",
   "execution_count": 12,
   "id": "ad679ceb",
   "metadata": {},
   "outputs": [
    {
     "data": {
      "text/plain": [
       "False"
      ]
     },
     "execution_count": 12,
     "metadata": {},
     "output_type": "execute_result"
    }
   ],
   "source": [
    "#check whether single keyword exists or not\n",
    "image.keyword_exists('curator')"
   ]
  },
  {
   "cell_type": "code",
   "execution_count": 13,
   "id": "c7a512b4",
   "metadata": {},
   "outputs": [
    {
     "data": {
      "text/plain": [
       "True"
      ]
     },
     "execution_count": 13,
     "metadata": {},
     "output_type": "execute_result"
    }
   ],
   "source": [
    "#check whether single keyword exists or not\n",
    "image.keyword_exists('CD1_1')"
   ]
  },
  {
   "cell_type": "code",
   "execution_count": 14,
   "id": "51b49ef6",
   "metadata": {},
   "outputs": [
    {
     "data": {
      "text/plain": [
       "[0.2]"
      ]
     },
     "execution_count": 14,
     "metadata": {},
     "output_type": "execute_result"
    }
   ],
   "source": [
    "#get single keyword value\n",
    "image.list_keyword_values(['CD1_1'])"
   ]
  },
  {
   "cell_type": "code",
   "execution_count": 15,
   "id": "f6ae161c",
   "metadata": {},
   "outputs": [
    {
     "data": {
      "text/plain": [
       "[0.2, 0.0]"
      ]
     },
     "execution_count": 15,
     "metadata": {},
     "output_type": "execute_result"
    }
   ],
   "source": [
    "#get two keywords value\n",
    "image.list_keyword_values(['CD1_1', 'CD1_2'])"
   ]
  },
  {
   "cell_type": "code",
   "execution_count": 16,
   "id": "87139a62",
   "metadata": {},
   "outputs": [
    {
     "name": "stderr",
     "output_type": "stream",
     "text": [
      "WARNING: Flush for 'readonly' mode is not supported. [astropy.io.fits.hdu.hdulist]\n"
     ]
    },
    {
     "data": {
      "text/plain": [
       "SIMPLE  =                    T / conforms to FITS standard                      \n",
       "BITPIX  =                  -32 / array data type                                \n",
       "NAXIS   =                    2 / number of array dimensions                     \n",
       "NAXIS1  =                   44                                                  \n",
       "NAXIS2  =                   44                                                  \n",
       "EXTEND  =                    T                                                  \n",
       "GS_XMIN =                    1 / GalSim image minimum x coordinate              \n",
       "GS_YMIN =                    1 / GalSim image minimum y coordinate              \n",
       "GS_WCS  = 'PixelScale'         / GalSim WCS name                                \n",
       "GS_SCALE=                  0.2 / GalSim image scale                             \n",
       "CTYPE1  = 'LINEAR  '           / name of the world coordinate axis              \n",
       "CTYPE2  = 'LINEAR  '           / name of the world coordinate axis              \n",
       "CRVAL1  =                  0.0 / world coordinate at reference pixel = u0       \n",
       "CRVAL2  =                  0.0 / world coordinate at reference pixel = v0       \n",
       "CRPIX1  =                  0.0 / image coordinate of reference pixel = x0       \n",
       "CRPIX2  =                  0.0 / image coordinate of reference pixel = y0       \n",
       "CD1_1   =                  0.2 / CD1_1 = dudx                                   \n",
       "CD1_2   =                  0.0 / CD1_2 = dudy                                   \n",
       "CD2_1   =                  0.0 / CD2_1 = dvdx                                   \n",
       "CD2_2   =                  0.2 / CD2_2 = dvdy                                   \n",
       "CURATOR = 'vkansal '           / curator                                        "
      ]
     },
     "execution_count": 16,
     "metadata": {},
     "output_type": "execute_result"
    }
   ],
   "source": [
    "#write keyword to hdu\n",
    "image.write_keyword('curator', 'vkansal', comment='curator')\n",
    "image.get_hdu()"
   ]
  },
  {
   "cell_type": "code",
   "execution_count": 17,
   "id": "2f0e0a16",
   "metadata": {},
   "outputs": [
    {
     "data": {
      "text/plain": [
       "SIMPLE  =                    T / conforms to FITS standard                      \n",
       "BITPIX  =                  -32 / array data type                                \n",
       "NAXIS   =                    2 / number of array dimensions                     \n",
       "NAXIS1  =                   44                                                  \n",
       "NAXIS2  =                   44                                                  \n",
       "EXTEND  =                    T                                                  \n",
       "GS_XMIN =                    1 / GalSim image minimum x coordinate              \n",
       "GS_YMIN =                    1 / GalSim image minimum y coordinate              \n",
       "GS_WCS  = 'PixelScale'         / GalSim WCS name                                \n",
       "GS_SCALE=                  0.2 / GalSim image scale                             \n",
       "CTYPE1  = 'LINEAR  '           / name of the world coordinate axis              \n",
       "CTYPE2  = 'LINEAR  '           / name of the world coordinate axis              \n",
       "CRVAL1  =                  0.0 / world coordinate at reference pixel = u0       \n",
       "CRVAL2  =                  0.0 / world coordinate at reference pixel = v0       \n",
       "CRPIX1  =                  0.0 / image coordinate of reference pixel = x0       \n",
       "CRPIX2  =                  0.0 / image coordinate of reference pixel = y0       \n",
       "CD1_1   =                  0.2 / CD1_1 = dudx                                   \n",
       "CD1_2   =                  0.0 / CD1_2 = dudy                                   \n",
       "CD2_1   =                  0.0 / CD2_1 = dvdx                                   \n",
       "CD2_2   =                  0.2 / CD2_2 = dvdy                                   \n",
       "CURATOR = 'vanshika kansal'    / curator                                        "
      ]
     },
     "execution_count": 17,
     "metadata": {},
     "output_type": "execute_result"
    }
   ],
   "source": [
    "#update keyword value\n",
    "image.update_keyword_value('curator', 'vanshika kansal')\n",
    "image.get_hdu()"
   ]
  },
  {
   "cell_type": "code",
   "execution_count": 18,
   "id": "55dcd669",
   "metadata": {},
   "outputs": [
    {
     "data": {
      "text/plain": [
       "SIMPLE  =                    T / conforms to FITS standard                      \n",
       "BITPIX  =                  -32 / array data type                                \n",
       "NAXIS   =                    2 / number of array dimensions                     \n",
       "NAXIS1  =                   44                                                  \n",
       "NAXIS2  =                   44                                                  \n",
       "EXTEND  =                    T                                                  \n",
       "GS_XMIN =                    1 / GalSim image minimum x coordinate              \n",
       "GS_YMIN =                    1 / GalSim image minimum y coordinate              \n",
       "GS_WCS  = 'PixelScale'         / GalSim WCS name                                \n",
       "GS_SCALE=                  0.2 / GalSim image scale                             \n",
       "CTYPE1  = 'LINEAR  '           / name of the world coordinate axis              \n",
       "CTYPE2  = 'LINEAR  '           / name of the world coordinate axis              \n",
       "CRVAL1  =                  0.0 / world coordinate at reference pixel = u0       \n",
       "CRVAL2  =                  0.0 / world coordinate at reference pixel = v0       \n",
       "CRPIX1  =                  0.0 / image coordinate of reference pixel = x0       \n",
       "CRPIX2  =                  0.0 / image coordinate of reference pixel = y0       \n",
       "CD1_1   =                  0.2 / CD1_1 = dudx                                   \n",
       "CD1_2   =                  0.0 / CD1_2 = dudy                                   \n",
       "CD2_1   =                  0.0 / CD2_1 = dvdx                                   \n",
       "CD2_2   =                  0.2 / CD2_2 = dvdy                                   \n",
       "CURATOR = 'vanshika kansal'    / test key                                       "
      ]
     },
     "execution_count": 18,
     "metadata": {},
     "output_type": "execute_result"
    }
   ],
   "source": [
    "# update keyword comment\n",
    "image.update_keyword_comment('curator', comment='test key')\n",
    "image.get_hdu()"
   ]
  },
  {
   "cell_type": "code",
   "execution_count": 19,
   "id": "ecbaa503",
   "metadata": {},
   "outputs": [
    {
     "data": {
      "text/plain": [
       "SIMPLE  =                    T / conforms to FITS standard                      \n",
       "BITPIX  =                  -32 / array data type                                \n",
       "NAXIS   =                    2 / number of array dimensions                     \n",
       "NAXIS1  =                   44                                                  \n",
       "NAXIS2  =                   44                                                  \n",
       "EXTEND  =                    T                                                  \n",
       "GS_XMIN =                    1 / GalSim image minimum x coordinate              \n",
       "GS_YMIN =                    1 / GalSim image minimum y coordinate              \n",
       "GS_WCS  = 'PixelScale'         / GalSim WCS name                                \n",
       "GS_SCALE=                  0.2 / GalSim image scale                             \n",
       "CTYPE1  = 'LINEAR  '           / name of the world coordinate axis              \n",
       "CTYPE2  = 'LINEAR  '           / name of the world coordinate axis              \n",
       "CRVAL1  =                  0.0 / world coordinate at reference pixel = u0       \n",
       "CRVAL2  =                  0.0 / world coordinate at reference pixel = v0       \n",
       "CRPIX1  =                  0.0 / image coordinate of reference pixel = x0       \n",
       "CRPIX2  =                  0.0 / image coordinate of reference pixel = y0       \n",
       "CD1_1   =                  0.2 / CD1_1 = dudx                                   \n",
       "CD1_2   =                  0.0 / CD1_2 = dudy                                   \n",
       "CD2_1   =                  0.0 / CD2_1 = dvdx                                   \n",
       "CD2_2   =                  0.2 / CD2_2 = dvdy                                   "
      ]
     },
     "execution_count": 19,
     "metadata": {},
     "output_type": "execute_result"
    }
   ],
   "source": [
    "# delete keyword\n",
    "image.delete_keyword('curator')\n",
    "image.get_hdu()"
   ]
  },
  {
   "cell_type": "code",
   "execution_count": 20,
   "id": "32f7bf8a",
   "metadata": {},
   "outputs": [
    {
     "data": {
      "text/plain": [
       "SIMPLE  =                    T / conforms to FITS standard                      \n",
       "BITPIX  =                  -32 / array data type                                \n",
       "NAXIS   =                    2 / number of array dimensions                     \n",
       "NAXIS1  =                   44                                                  \n",
       "NAXIS2  =                   44                                                  \n",
       "EXTEND  =                    T                                                  \n",
       "GS_XMIN =                    1 / GalSim image minimum x coordinate              \n",
       "GS_YMIN =                    1 / GalSim image minimum y coordinate              \n",
       "GS_WCS  = 'PixelScale'         / GalSim WCS name                                \n",
       "GS_SCALE=                  0.2 / GalSim image scale                             \n",
       "CTYPE1  = 'LINEAR  '           / name of the world coordinate axis              \n",
       "CTYPE2  = 'LINEAR  '           / name of the world coordinate axis              \n",
       "CRVAL1  =                  0.0 / world coordinate at reference pixel = u0       \n",
       "CRVAL2  =                  0.0 / world coordinate at reference pixel = v0       \n",
       "CRPIX1  =                  0.0 / image coordinate of reference pixel = x0       \n",
       "CRPIX2  =                  0.0 / image coordinate of reference pixel = y0       \n",
       "CD1_1   =                  0.2 / CD1_1 = dudx                                   \n",
       "CD1_2   =                  0.0 / CD1_2 = dudy                                   \n",
       "CD2_1   =                  0.0 / CD2_1 = dvdx                                   \n",
       "CD2_2   =                  0.2 / CD2_2 = dvdy                                   \n",
       "HISTORY history                                                                 "
      ]
     },
     "execution_count": 20,
     "metadata": {},
     "output_type": "execute_result"
    }
   ],
   "source": [
    "#write history to hdu\n",
    "image.write_history('history')\n",
    "image.get_hdu()"
   ]
  },
  {
   "cell_type": "code",
   "execution_count": 21,
   "id": "9b6c260f",
   "metadata": {},
   "outputs": [
    {
     "data": {
      "text/plain": [
       "''"
      ]
     },
     "execution_count": 21,
     "metadata": {},
     "output_type": "execute_result"
    }
   ],
   "source": [
    "#get hduname\n",
    "table.get_hduname()\n"
   ]
  },
  {
   "cell_type": "code",
   "execution_count": 22,
   "id": "1873bb88",
   "metadata": {},
   "outputs": [
    {
     "data": {
      "text/plain": [
       "'SHEAR CATALOG'"
      ]
     },
     "execution_count": 22,
     "metadata": {},
     "output_type": "execute_result"
    }
   ],
   "source": [
    "\n",
    "#update hdu name\n",
    "table.update_hduname('Shear catalog')\n",
    "\n",
    "#get hduname\n",
    "table.get_hduname()"
   ]
  },
  {
   "cell_type": "code",
   "execution_count": 23,
   "id": "c9e30b7d",
   "metadata": {},
   "outputs": [],
   "source": [
    "\n",
    "#add/create image hdu with copy of image data\n",
    "data = image.get_data(0)\n",
    "header = image.get_hdu()\n",
    "image.create_Image_hdu(data, header = header, name= 'Copy Image')"
   ]
  },
  {
   "cell_type": "code",
   "execution_count": 24,
   "id": "d23df575",
   "metadata": {},
   "outputs": [],
   "source": [
    "#add bintable hdu\n",
    "data_t = table.get_data(1)\n",
    "header_t = table.get_hdu()\n",
    "image.create_bintable_hdu(data_t, header = header_t, name= 'BinTable')"
   ]
  },
  {
   "cell_type": "code",
   "execution_count": 25,
   "id": "75ff7738",
   "metadata": {},
   "outputs": [],
   "source": [
    "#Save file\n",
    "image.save(os.path.join(os.path.dirname(os.getcwd()), 'data', 'gal_copy.fits'))"
   ]
  },
  {
   "cell_type": "code",
   "execution_count": 26,
   "id": "3caee554",
   "metadata": {},
   "outputs": [],
   "source": [
    "import FitsFile.File as file\n",
    "\n",
    "#create new file with empty primary header, image and table\n",
    "file_new = file.FitsFile(os.path.join(os.path.dirname(os.getcwd()), 'data', 'file.fits'))\n",
    "file_new.create_hdu()"
   ]
  },
  {
   "cell_type": "code",
   "execution_count": 27,
   "id": "67ad602e",
   "metadata": {},
   "outputs": [],
   "source": [
    "file_new.add_primary_hdu()"
   ]
  },
  {
   "cell_type": "code",
   "execution_count": 28,
   "id": "1263a107",
   "metadata": {},
   "outputs": [
    {
     "data": {
      "text/plain": [
       "False"
      ]
     },
     "execution_count": 28,
     "metadata": {},
     "output_type": "execute_result"
    }
   ],
   "source": [
    "file_new.file_exists()"
   ]
  },
  {
   "cell_type": "code",
   "execution_count": 29,
   "id": "82fefcd9",
   "metadata": {},
   "outputs": [],
   "source": [
    "file_new.save()\n"
   ]
  },
  {
   "cell_type": "code",
   "execution_count": null,
   "id": "28832381",
   "metadata": {},
   "outputs": [],
   "source": []
  }
 ],
 "metadata": {
  "kernelspec": {
   "display_name": "Python 3 (ipykernel)",
   "language": "python",
   "name": "python3"
  },
  "language_info": {
   "codemirror_mode": {
    "name": "ipython",
    "version": 3
   },
   "file_extension": ".py",
   "mimetype": "text/x-python",
   "name": "python",
   "nbconvert_exporter": "python",
   "pygments_lexer": "ipython3",
   "version": "3.9.13"
  }
 },
 "nbformat": 4,
 "nbformat_minor": 5
}
