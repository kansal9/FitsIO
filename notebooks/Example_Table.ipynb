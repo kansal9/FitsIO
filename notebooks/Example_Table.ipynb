{
 "cells": [
  {
   "cell_type": "code",
   "execution_count": 1,
   "id": "790d0ed1",
   "metadata": {},
   "outputs": [],
   "source": [
    "import os\n",
    "import FitsFile.Bintable as tb"
   ]
  },
  {
   "cell_type": "code",
   "execution_count": 2,
   "id": "f4393051",
   "metadata": {},
   "outputs": [],
   "source": [
    "filepath= os.path.join(os.path.dirname(os.getcwd()), 'data', 'cat_shear.fits')\n",
    "\n",
    "table = tb.FitsBintable(filepath)"
   ]
  },
  {
   "cell_type": "code",
   "execution_count": 3,
   "id": "a9620871",
   "metadata": {},
   "outputs": [],
   "source": [
    "table.open()"
   ]
  },
  {
   "cell_type": "code",
   "execution_count": 4,
   "id": "919c684c",
   "metadata": {},
   "outputs": [],
   "source": [
    "table.set_hdu_index(1)"
   ]
  },
  {
   "cell_type": "code",
   "execution_count": 5,
   "id": "b1ed17c6",
   "metadata": {},
   "outputs": [
    {
     "data": {
      "text/plain": [
       "['ra_gal', 'dec_gal', 'shearE', 'shearB', 'weight']"
      ]
     },
     "execution_count": 5,
     "metadata": {},
     "output_type": "execute_result"
    }
   ],
   "source": [
    "# get column names in the table\n",
    "table.get_column_names()"
   ]
  },
  {
   "cell_type": "code",
   "execution_count": 6,
   "id": "8378d2b2",
   "metadata": {},
   "outputs": [],
   "source": [
    "# get \"ra_gal\" column data\n",
    "ra = table.get_column_data(\"ra_gal\")"
   ]
  },
  {
   "cell_type": "code",
   "execution_count": 7,
   "id": "554e54ae",
   "metadata": {},
   "outputs": [
    {
     "name": "stdout",
     "output_type": "stream",
     "text": [
      "[15.         15.         15.         ... 24.99023438 24.99023438\n",
      " 24.99023438]\n"
     ]
    }
   ],
   "source": [
    "print(ra)"
   ]
  },
  {
   "cell_type": "code",
   "execution_count": 8,
   "id": "16e06b5d",
   "metadata": {},
   "outputs": [
    {
     "data": {
      "text/plain": [
       "190212"
      ]
     },
     "execution_count": 8,
     "metadata": {},
     "output_type": "execute_result"
    }
   ],
   "source": [
    "#get number of rows\n",
    "table.get_num_rows()"
   ]
  },
  {
   "cell_type": "code",
   "execution_count": 9,
   "id": "0eab5e52",
   "metadata": {},
   "outputs": [
    {
     "data": {
      "text/plain": [
       "5"
      ]
     },
     "execution_count": 9,
     "metadata": {},
     "output_type": "execute_result"
    }
   ],
   "source": [
    "table.get_number_of_columns()"
   ]
  },
  {
   "cell_type": "code",
   "execution_count": 10,
   "id": "4165b277",
   "metadata": {},
   "outputs": [
    {
     "data": {
      "text/plain": [
       "True"
      ]
     },
     "execution_count": 10,
     "metadata": {},
     "output_type": "execute_result"
    }
   ],
   "source": [
    "#check if table has column \"shearB\"\n",
    "table.has_column(\"shearB\")"
   ]
  },
  {
   "cell_type": "code",
   "execution_count": 11,
   "id": "0ddb8c72",
   "metadata": {},
   "outputs": [
    {
     "data": {
      "text/plain": [
       "False"
      ]
     },
     "execution_count": 11,
     "metadata": {},
     "output_type": "execute_result"
    }
   ],
   "source": [
    "#check if table has column \"err\"\n",
    "table.has_column(\"err\")"
   ]
  },
  {
   "cell_type": "code",
   "execution_count": 12,
   "id": "fb42f682",
   "metadata": {},
   "outputs": [
    {
     "name": "stderr",
     "output_type": "stream",
     "text": [
      "WARNING: Flush for 'readonly' mode is not supported. [astropy.io.fits.hdu.hdulist]\n"
     ]
    },
    {
     "data": {
      "text/plain": [
       "['ra', 'dec_gal', 'shearE', 'shearB', 'weight']"
      ]
     },
     "execution_count": 12,
     "metadata": {},
     "output_type": "execute_result"
    }
   ],
   "source": [
    "#update column name\n",
    "table.update_column_name('ra_gal', 'ra')\n",
    "table.get_column_names()"
   ]
  },
  {
   "cell_type": "code",
   "execution_count": 13,
   "id": "bfa0bece",
   "metadata": {},
   "outputs": [
    {
     "data": {
      "text/plain": [
       "2"
      ]
     },
     "execution_count": 13,
     "metadata": {},
     "output_type": "execute_result"
    }
   ],
   "source": [
    "table.find_column_index('shearE')"
   ]
  },
  {
   "cell_type": "code",
   "execution_count": 16,
   "id": "c1eb0088",
   "metadata": {},
   "outputs": [],
   "source": [
    "import numpy as np\n",
    "err = np.zeros(table.get_num_rows(), dtype = int)\n",
    "table.add_column('err', format=err.dtype, array=err)"
   ]
  },
  {
   "cell_type": "code",
   "execution_count": 17,
   "id": "ceb76904",
   "metadata": {},
   "outputs": [
    {
     "data": {
      "text/plain": [
       "['ra', 'dec_gal', 'shearE', 'shearB', 'weight', 'err']"
      ]
     },
     "execution_count": 17,
     "metadata": {},
     "output_type": "execute_result"
    }
   ],
   "source": [
    "table.get_column_names()"
   ]
  },
  {
   "cell_type": "code",
   "execution_count": 21,
   "id": "c98714c2",
   "metadata": {},
   "outputs": [
    {
     "data": {
      "text/plain": [
       "['ra', 'dec_gal', 'shearE', 'shearB', 'weight']"
      ]
     },
     "execution_count": 21,
     "metadata": {},
     "output_type": "execute_result"
    }
   ],
   "source": [
    "table.delete_column('err')\n",
    "table.get_column_names()"
   ]
  },
  {
   "cell_type": "code",
   "execution_count": null,
   "id": "99d71671",
   "metadata": {},
   "outputs": [],
   "source": []
  }
 ],
 "metadata": {
  "kernelspec": {
   "display_name": "Python 3 (ipykernel)",
   "language": "python",
   "name": "python3"
  },
  "language_info": {
   "codemirror_mode": {
    "name": "ipython",
    "version": 3
   },
   "file_extension": ".py",
   "mimetype": "text/x-python",
   "name": "python",
   "nbconvert_exporter": "python",
   "pygments_lexer": "ipython3",
   "version": "3.9.13"
  }
 },
 "nbformat": 4,
 "nbformat_minor": 5
}
