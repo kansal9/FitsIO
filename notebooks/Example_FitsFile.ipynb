{
 "cells": [
  {
   "cell_type": "code",
   "execution_count": 1,
   "id": "13c07bd4",
   "metadata": {},
   "outputs": [],
   "source": [
    "import os\n",
    "import FitsFile.File as file"
   ]
  },
  {
   "cell_type": "code",
   "execution_count": 2,
   "id": "69c6f940",
   "metadata": {},
   "outputs": [],
   "source": [
    "#get the absolute file path\n",
    "filepath = os.path.join(os.path.dirname(os.getcwd()), 'data', 'gal.fits')"
   ]
  },
  {
   "cell_type": "code",
   "execution_count": 3,
   "id": "b9aafe3c",
   "metadata": {},
   "outputs": [
    {
     "data": {
      "text/plain": [
       "True"
      ]
     },
     "execution_count": 3,
     "metadata": {},
     "output_type": "execute_result"
    }
   ],
   "source": [
    "#get image object using fits file object\n",
    "image = file.FitsFile(filepath)\n",
    "\n",
    "#check whether file is close or not\n",
    "image.is_close()\n"
   ]
  },
  {
   "cell_type": "code",
   "execution_count": 5,
   "id": "749462bf",
   "metadata": {},
   "outputs": [],
   "source": [
    "#open image\n",
    "image.open()"
   ]
  },
  {
   "cell_type": "code",
   "execution_count": 6,
   "id": "812d6f1f",
   "metadata": {},
   "outputs": [
    {
     "data": {
      "text/plain": [
       "[SIMPLE  =                    T / conforms to FITS standard                      \n",
       " BITPIX  =                  -32 / array data type                                \n",
       " NAXIS   =                    2 / number of array dimensions                     \n",
       " NAXIS1  =                   44                                                  \n",
       " NAXIS2  =                   44                                                  \n",
       " EXTEND  =                    T                                                  \n",
       " GS_XMIN =                    1 / GalSim image minimum x coordinate              \n",
       " GS_YMIN =                    1 / GalSim image minimum y coordinate              \n",
       " GS_WCS  = 'PixelScale'         / GalSim WCS name                                \n",
       " GS_SCALE=                  0.2 / GalSim image scale                             \n",
       " CTYPE1  = 'LINEAR  '           / name of the world coordinate axis              \n",
       " CTYPE2  = 'LINEAR  '           / name of the world coordinate axis              \n",
       " CRVAL1  =                  0.0 / world coordinate at reference pixel = u0       \n",
       " CRVAL2  =                  0.0 / world coordinate at reference pixel = v0       \n",
       " CRPIX1  =                  0.0 / image coordinate of reference pixel = x0       \n",
       " CRPIX2  =                  0.0 / image coordinate of reference pixel = y0       \n",
       " CD1_1   =                  0.2 / CD1_1 = dudx                                   \n",
       " CD1_2   =                  0.0 / CD1_2 = dudy                                   \n",
       " CD2_1   =                  0.0 / CD2_1 = dvdx                                   \n",
       " CD2_2   =                  0.2 / CD2_2 = dvdy                                   ]"
      ]
     },
     "execution_count": 6,
     "metadata": {},
     "output_type": "execute_result"
    }
   ],
   "source": [
    "# get and print headers of the file\n",
    "image.get_headers()"
   ]
  },
  {
   "cell_type": "code",
   "execution_count": 7,
   "id": "dc637e9a",
   "metadata": {},
   "outputs": [
    {
     "data": {
      "text/plain": [
       "1"
      ]
     },
     "execution_count": 7,
     "metadata": {},
     "output_type": "execute_result"
    }
   ],
   "source": [
    "#get total number of headers of the given file\n",
    "image.get_num_headers()"
   ]
  },
  {
   "cell_type": "code",
   "execution_count": 8,
   "id": "ee598dc1",
   "metadata": {},
   "outputs": [],
   "source": [
    "#close the file\n",
    "image.close()"
   ]
  },
  {
   "cell_type": "code",
   "execution_count": 9,
   "id": "0111c5df",
   "metadata": {},
   "outputs": [],
   "source": [
    "#delete the fits file\n",
    "#PLEASE DO NOT USE THIS\n",
    "#image.delete()"
   ]
  },
  {
   "cell_type": "code",
   "execution_count": null,
   "id": "72c1fdf9",
   "metadata": {},
   "outputs": [],
   "source": []
  }
 ],
 "metadata": {
  "kernelspec": {
   "display_name": "Python 3 (ipykernel)",
   "language": "python",
   "name": "python3"
  },
  "language_info": {
   "codemirror_mode": {
    "name": "ipython",
    "version": 3
   },
   "file_extension": ".py",
   "mimetype": "text/x-python",
   "name": "python",
   "nbconvert_exporter": "python",
   "pygments_lexer": "ipython3",
   "version": "3.9.13"
  }
 },
 "nbformat": 4,
 "nbformat_minor": 5
}
